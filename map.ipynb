{
 "cells": [
  {
   "cell_type": "markdown",
   "metadata": {},
   "source": [
    "https://geopandas.org/en/stable/gallery/polygon_plotting_with_folium.html\n",
    "\n",
    "`python3 -m pip install geopandas`\n",
    "\n",
    "Successfully installed fiona-1.8.20 geopandas-0.10.2 munch-2.5.0 shapely-1.8.0"
   ]
  },
  {
   "cell_type": "code",
   "execution_count": null,
   "metadata": {},
   "outputs": [],
   "source": [
    "import geopandas as gpd\n",
    "import pandas as pd\n",
    "import folium\n",
    "import matplotlib.pyplot as plt\n",
    "import pymongo\n",
    "import json"
   ]
  },
  {
   "cell_type": "code",
   "execution_count": null,
   "metadata": {},
   "outputs": [],
   "source": [
    "mdb_uri = 'localhost'\n",
    "client = pymongo.MongoClient(mdb_uri)\n",
    "\n",
    "mdb_db='osm'\n",
    "\n",
    "mdb_col='sweden.landuse'\n",
    "filter={'properties.fclass': 'forest',\n",
    "  'geometry': {\n",
    "     '$near': {\n",
    "       '$geometry': {\n",
    "          'type': 'Point' ,\n",
    "          'coordinates': [ 17.58, 59.48 ]\n",
    "       },\n",
    "       '$maxDistance': 1000,\n",
    "       '$minDistance': 0\n",
    "     }\n",
    "   }\n",
    "}\n",
    "retrieve=5\n",
    "df = gpd.GeoDataFrame.from_features(client[mdb_db][mdb_col].find(filter).limit(retrieve))\n",
    "\n",
    "df.head()"
   ]
  },
  {
   "cell_type": "code",
   "execution_count": null,
   "metadata": {},
   "outputs": [],
   "source": [
    "df.plot(figsize=(6, 6))\n",
    "plt.show()"
   ]
  },
  {
   "cell_type": "code",
   "execution_count": null,
   "metadata": {},
   "outputs": [],
   "source": [
    "m = folium.Map(location=[59.48,17.58], zoom_start=14, tiles='openstreetmap')\n",
    "for _, r in df.iterrows():\n",
    "    sim_geo = gpd.GeoSeries(r['geometry']).simplify(tolerance=0.001)\n",
    "    geo_j = sim_geo.to_json()\n",
    "    geo_j = folium.GeoJson(data=geo_j,\n",
    "                           style_function=lambda x: {'fillColor': 'orange'})\n",
    "    folium.Popup(r['name']).add_to(geo_j)\n",
    "    geo_j.add_to(m)\n",
    "m"
   ]
  },
  {
   "cell_type": "code",
   "execution_count": null,
   "metadata": {},
   "outputs": [],
   "source": [
    "df['centroid'] = df.centroid"
   ]
  },
  {
   "cell_type": "code",
   "execution_count": null,
   "metadata": {},
   "outputs": [],
   "source": [
    "df.head()"
   ]
  },
  {
   "cell_type": "code",
   "execution_count": null,
   "metadata": {},
   "outputs": [],
   "source": [
    "for _, r in df.iterrows():\n",
    "    lat = r['centroid'].y\n",
    "    lon = r['centroid'].x\n",
    "    folium.Marker(location=[lat, lon],\n",
    "                  popup='Name:&nbsp;<b>{}</b> <br> Class:&nbsp;<a href=\"https://wiki.openstreetmap.org/wiki/Tag:landuse={}\" target=\"_blank\">{}</a> <br> <i>Code:&nbsp;{}</i>'.format(r['name'], r['fclass'], r['fclass'], r['code'])).add_to(m)\n",
    "\n",
    "m"
   ]
  },
  {
   "cell_type": "code",
   "execution_count": null,
   "metadata": {},
   "outputs": [],
   "source": [
    "mdb_col='sweden.roads'\n",
    "filter={'geometry': {\n",
    "     '$near': {\n",
    "       '$geometry': {\n",
    "          'type': 'Point' ,\n",
    "          'coordinates': [ 17.58, 59.48 ]\n",
    "       },\n",
    "       '$maxDistance': 1000,\n",
    "       '$minDistance': 0\n",
    "     }\n",
    "   }\n",
    "}\n",
    "retrieve=100\n",
    "df = gpd.GeoDataFrame.from_features(client[mdb_db][mdb_col].find(filter).limit(retrieve))\n",
    "\n",
    "for _, r in df.iterrows():\n",
    "    sim_geo = gpd.GeoSeries(r['geometry'])#.simplify(tolerance=0.001)\n",
    "    geo_j = sim_geo.to_json()\n",
    "    geo_j = folium.GeoJson(data=geo_j,\n",
    "                           style_function=lambda x: {'color': 'green', 'weight':' 4'})\n",
    "    folium.Popup(r['name']).add_to(geo_j)\n",
    "    geo_j.add_to(m)\n",
    "m"
   ]
  }
 ],
 "metadata": {
  "interpreter": {
   "hash": "ac2eaa0ea0ebeafcc7822e65e46aa9d4f966f30b695406963e145ea4a91cd4fc"
  },
  "kernelspec": {
   "display_name": "Python 3.9.7 64-bit",
   "language": "python",
   "name": "python3"
  },
  "language_info": {
   "codemirror_mode": {
    "name": "ipython",
    "version": 3
   },
   "file_extension": ".py",
   "mimetype": "text/x-python",
   "name": "python",
   "nbconvert_exporter": "python",
   "pygments_lexer": "ipython3",
   "version": "3.9.9"
  },
  "orig_nbformat": 4
 },
 "nbformat": 4,
 "nbformat_minor": 2
}
